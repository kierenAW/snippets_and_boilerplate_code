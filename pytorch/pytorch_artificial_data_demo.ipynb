{
 "cells": [
  {
   "cell_type": "markdown",
   "id": "4c715a07-2e4f-4b8d-b32c-91afcb97ede8",
   "metadata": {},
   "source": [
    "# Pytorch Train/Test Using Pretrained Model and Artificial Data\n",
    "\n",
    "This is a demonstration of using Pytorch to fine tune a pre-trained model on an artificial data set (zeros and ones). This code can be a good place to start from when creating a new Neural Network in PyTorch as it demonstrates many of the basic concepts in a functional context.\n",
    "\n",
    "This model trains very fast due to the extremely simple nature of the task and will run on either CPU or GPU auto selecting GPU if available. \n",
    "\n",
    "\n",
    "Included are the basic elements:\n",
    "1. Selecting GPU/CPU\n",
    "1. Building a Pytorch dataset\n",
    "1. Setting hyper parameters\n",
    "1. Importing a pre-trained model architecture\n",
    "1. Setting optimizer and criterion\n",
    "1. Creating Pytroch DataLoader\n",
    "1. Creating Train/Test functions\n",
    "1. Training then Testing using a loop with outputs\n",
    "\n",
    "\n",
    "This code was created and tested using [Enviroment E037](https://github.com/kierenAW/conda_environments_for_data_science)"
   ]
  },
  {
   "cell_type": "markdown",
   "id": "92daef9d-525a-49ee-b481-d1f96d76aaf8",
   "metadata": {},
   "source": [
    "## Imports"
   ]
  },
  {
   "cell_type": "code",
   "execution_count": 1,
   "id": "3caa5718-6ed5-43f1-a3c5-52f8b3c35291",
   "metadata": {},
   "outputs": [],
   "source": [
    "import torch, torchvision, torch.optim as optim"
   ]
  },
  {
   "cell_type": "markdown",
   "id": "f978485a-80ed-48a8-be14-b750271767af",
   "metadata": {},
   "source": [
    "## Create Functions"
   ]
  },
  {
   "cell_type": "code",
   "execution_count": 2,
   "id": "4e5937f7-87d5-4148-a084-9a0e1480778a",
   "metadata": {},
   "outputs": [],
   "source": [
    "def get_device():\n",
    "    \"\"\"Set as GPU if available, else set CPU\"\"\"\n",
    "    if torch.cuda.is_available():\n",
    "        return torch.device('cuda')\n",
    "    else:\n",
    "        return torch.device('cpu')\n",
    "\n",
    "\n",
    "class one_zero_dataset(torch.utils.data.Dataset):\n",
    "    \"\"\"Setup  zero/one gen as a dataset\"\"\"\n",
    "    def __len__(self):\n",
    "        return 100 #Set dataset size to be 100\n",
    "    def __getitem__(self, index):\n",
    "        \n",
    "        #Create tensors of the same shape as Imagenet with either a 1 or 0\n",
    "        if (index%2) == 0:\n",
    "            data = torch.zeros((3, 224, 224), dtype=torch.float32) \n",
    "            gnd_trth = float(0)\n",
    "        else:\n",
    "            data = torch.ones((3, 224, 224), dtype=torch.float32)\n",
    "            gnd_trth = float(1)\n",
    "            \n",
    "        return data, gnd_trth\n",
    "\n",
    "def train_single_epoch(device, dataloader, model, criterion, optimizer):\n",
    "    \n",
    "    #zero accumulating values for los and acc\n",
    "    running_acc = 0.0\n",
    "    running_loss = 0.0\n",
    "    \n",
    "    #set model to train state\n",
    "    model.train()\n",
    "\n",
    "    # Iterate over data and train\n",
    "    for batch, gnd_truth in dataloader:\n",
    "        \n",
    "        #Send to gpu or cpu\n",
    "        batch, gnd_truth = batch.to(device), gnd_truth.to(device)\n",
    "        \n",
    "        # zero the parameter gradients\n",
    "        optimizer.zero_grad() \n",
    "        \n",
    "        # forward\n",
    "        preds = model(batch)\n",
    "        \n",
    "        #get loss\n",
    "        loss = criterion(preds[:,1], gnd_truth.float())\n",
    "        \n",
    "        #backward\n",
    "        loss.backward()\n",
    "        \n",
    "        #optimize\n",
    "        optimizer.step()\n",
    "\n",
    "        # update running loss and acc\n",
    "        running_acc += (torch.round(preds[:,1]).unsqueeze(1)  == gnd_truth.unsqueeze(1)).sum()/ gnd_truth.unsqueeze(1).shape[0]\n",
    "        running_loss += loss.item()\n",
    "\n",
    "    return model, running_loss/len(dataloader), running_acc/len(dataloader)\n",
    "\n",
    "\n",
    "def test_single_epoch(device, dataloader, model, criterion, optimizer):\n",
    "   \n",
    "    #zero accumulating values for los and acc\n",
    "    running_acc = 0.0\n",
    "    running_loss = 0.0\n",
    "    \n",
    "    #set model to  eval state\n",
    "    with torch.no_grad():\n",
    "\n",
    "        # Iterate over data and test\n",
    "        for batch, gnd_truth in dataloader:\n",
    "\n",
    "            #Send to gpu or cpu\n",
    "            batch, gnd_truth = batch.to(device), gnd_truth.to(device)\n",
    "\n",
    "            # forward\n",
    "            preds = model(batch)\n",
    "\n",
    "            #get loss\n",
    "            loss = criterion(preds[:,1], gnd_truth.float())\n",
    "\n",
    "            # update running loss and acc\n",
    "            running_acc += (torch.round(preds[:,1]).unsqueeze(1)  == gnd_truth.unsqueeze(1)).sum()/ gnd_truth.unsqueeze(1).shape[0]\n",
    "            running_loss += loss.item()\n",
    "\n",
    "    return running_loss/len(dataloader), running_acc/len(dataloader)"
   ]
  },
  {
   "cell_type": "markdown",
   "id": "7c10e8f5-899d-4d6a-8692-91f8a2d962e9",
   "metadata": {},
   "source": [
    "## Setting Hyper Parameters"
   ]
  },
  {
   "cell_type": "code",
   "execution_count": 3,
   "id": "e84fbdd0-0cdc-49a8-8122-dd27f2914b50",
   "metadata": {},
   "outputs": [],
   "source": [
    "device = get_device()\n",
    "learning_rate = 0.0001\n",
    "batch_size = 10\n",
    "epochs = 10"
   ]
  },
  {
   "cell_type": "markdown",
   "id": "5fa0eb70-be7b-4432-8fc9-f1424130f813",
   "metadata": {},
   "source": [
    "## Import and Setup Model"
   ]
  },
  {
   "cell_type": "code",
   "execution_count": 4,
   "id": "2a4aa958-92ac-4511-b365-a062b5366e6c",
   "metadata": {},
   "outputs": [],
   "source": [
    "model = torchvision.models.resnet18(pretrained=True)\n",
    "model.fc = torch.nn.Sequential(torch.nn.Linear(in_features=512, out_features=2, bias=True), torch.nn.Softmax(dim = 1))\n",
    "model = model.to(device)"
   ]
  },
  {
   "cell_type": "markdown",
   "id": "56c55d76-a447-4f26-82ad-fac029f05a0a",
   "metadata": {},
   "source": [
    "## Setup Optimizer and Criterion"
   ]
  },
  {
   "cell_type": "code",
   "execution_count": 5,
   "id": "56e3c122-01f5-456a-ba28-67ce38a201db",
   "metadata": {},
   "outputs": [],
   "source": [
    "optimizer = optim.Adam(model.parameters(), lr=learning_rate)\n",
    "criterion = torch.nn.BCEWithLogitsLoss()"
   ]
  },
  {
   "cell_type": "markdown",
   "id": "180a7226-f963-4c01-bde2-208784434d38",
   "metadata": {},
   "source": [
    "## Setup DataLoaders"
   ]
  },
  {
   "cell_type": "code",
   "execution_count": 6,
   "id": "a101c2c3-1b71-4a1a-8caa-41200f2696ca",
   "metadata": {},
   "outputs": [],
   "source": [
    "train_data_loader = torch.utils.data.DataLoader(one_zero_dataset(), batch_size=batch_size, shuffle=True, num_workers=12)\n",
    "test_data_loader = torch.utils.data.DataLoader(one_zero_dataset(), batch_size=batch_size, shuffle=True, num_workers=2)"
   ]
  },
  {
   "cell_type": "markdown",
   "id": "d14f551a-f401-4f54-a55e-2d9e1dc47254",
   "metadata": {},
   "source": [
    "## Train and Test Model"
   ]
  },
  {
   "cell_type": "code",
   "execution_count": 7,
   "id": "083fb0a3-70d2-4acc-9b72-71d86438318a",
   "metadata": {},
   "outputs": [
    {
     "name": "stdout",
     "output_type": "stream",
     "text": [
      "------------------------------------------------------------------------\n",
      "starting training for 10 epochs \n",
      "finished training for epoch 2\n",
      "train_loss: 0.5039\n",
      "test_loss: 0.5037\n",
      "train_acc: 1.0000\n",
      "test_acc: 1.0000\n",
      "\n",
      "----------------------------------\n",
      "\n",
      "finished training for epoch 4\n",
      "train_loss: 0.5033\n",
      "test_loss: 0.5037\n",
      "train_acc: 1.0000\n",
      "test_acc: 1.0000\n",
      "\n",
      "----------------------------------\n",
      "\n",
      "finished training for epoch 6\n",
      "train_loss: 0.5077\n",
      "test_loss: 0.5039\n",
      "train_acc: 1.0000\n",
      "test_acc: 1.0000\n",
      "\n",
      "----------------------------------\n",
      "\n",
      "finished training for epoch 8\n",
      "train_loss: 0.5035\n",
      "test_loss: 0.5034\n",
      "train_acc: 1.0000\n",
      "test_acc: 1.0000\n",
      "\n",
      "----------------------------------\n",
      "\n",
      "finished training for epoch 10\n",
      "train_loss: 0.5033\n",
      "test_loss: 0.5036\n",
      "train_acc: 1.0000\n",
      "test_acc: 1.0000\n",
      "\n",
      "----------------------------------\n",
      "\n"
     ]
    }
   ],
   "source": [
    "print('------------------------------------------------------------------------')\n",
    "print('starting training for {} epochs '.format(epochs))\n",
    "\n",
    "# loop over the dataset multiple times training and then testing\n",
    "for epoch in range(1, epochs+1):\n",
    "    model, train_loss, train_acc = train_single_epoch(device, train_data_loader, model, criterion, optimizer)\n",
    "    test_loss, test_acc = test_single_epoch(device, test_data_loader, model, criterion, optimizer)\n",
    "    \n",
    "    if (epoch % 2) == 0: #Print every 2 epochs\n",
    "        print('finished training for epoch {}'.format(epoch))\n",
    "        print('train_loss: {:.4f}'.format(train_loss))\n",
    "        print('test_loss: {:.4f}'.format(test_loss))\n",
    "        print('train_acc: {:.4f}'.format(train_acc))\n",
    "        print('test_acc: {:.4f}'.format(test_acc))\n",
    "        print('\\n----------------------------------\\n')\n",
    "        \n",
    "\n",
    "    "
   ]
  },
  {
   "cell_type": "code",
   "execution_count": null,
   "id": "5203199b-cbe6-463e-a1cc-2accd13042ff",
   "metadata": {},
   "outputs": [],
   "source": []
  }
 ],
 "metadata": {
  "kernelspec": {
   "display_name": "Python 3",
   "language": "python",
   "name": "python3"
  },
  "language_info": {
   "codemirror_mode": {
    "name": "ipython",
    "version": 3
   },
   "file_extension": ".py",
   "mimetype": "text/x-python",
   "name": "python",
   "nbconvert_exporter": "python",
   "pygments_lexer": "ipython3",
   "version": "3.9.2"
  }
 },
 "nbformat": 4,
 "nbformat_minor": 5
}
