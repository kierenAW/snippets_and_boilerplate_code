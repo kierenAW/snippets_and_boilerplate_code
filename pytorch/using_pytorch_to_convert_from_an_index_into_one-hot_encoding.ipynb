{
 "cells": [
  {
   "cell_type": "markdown",
   "id": "98d64bbe-88bc-45f5-9617-5109c02de507",
   "metadata": {},
   "source": [
    "# Changing Index into One-Hot Encoding with Pytorch"
   ]
  },
  {
   "cell_type": "markdown",
   "id": "0530f306-d7e3-4f83-9c2a-4e63946d84ec",
   "metadata": {},
   "source": [
    "In this post we cover how to use [torch.nn.functional](https://pytorch.org/docs/stable/nn.functional.html) to encode a integer label (e.g. 4 or 0 or 6) into a one-hot encoded tensor (e.g. [0, 0, 0, 1, 0, 0] or [1, 0, 0, 0, 0] or [0, 0, 0, 0, 1])"
   ]
  },
  {
   "cell_type": "markdown",
   "id": "d34cb12e-a792-4bc2-8ed9-dbd758ebacb4",
   "metadata": {},
   "source": [
    "## Why Use One-Hot Encoder\n",
    "\n",
    "In many classification tasks the use of [one-hot encoding](https://en.wikipedia.org/wiki/One-hot) of labels is needed by some loss functions, this is especially true when there is more than 2 classes.\n",
    "\n",
    "The benefit of one-hot encoding is that the neural network can have an output neuron for each class, when a [Softmax](https://pytorch.org/docs/stable/generated/torch.nn.Softmax.html) is applied just before the output results in an output tensor where all values add up to 1.0, the output number for each class is often read as likelihood for that class."
   ]
  },
  {
   "cell_type": "markdown",
   "id": "a169a9b3-b176-4c1f-a10c-3188a085b115",
   "metadata": {},
   "source": [
    "## Example\n",
    "An example could be a neural network trained (or being trained) to predict 3 classes such as <i>cat</i>, <i>dog</i> and <i>cow</i> is given a photo of a <i>cow</i>; this might result in an output tensor that looks like this [.05, 0.5, .90] therefore we might describe this as having 5% likelihood of being <i>cat</i> or <i>dog</i> and 90% of being a <i>cow</i>.\n",
    "\n",
    "The ground truth tensor for this case might look like [0, 0, 1] and the tensor of the difference between the predictions and ground truth could be described as [.05, .05, .1]"
   ]
  },
  {
   "cell_type": "markdown",
   "id": "1f791ac5-7c11-4570-b1c2-9f1efca71b48",
   "metadata": {},
   "source": [
    "## Reproducing Code\n",
    "This code was created and tested using [Environment E037](https://github.com/kierenAW/conda_environments_for_data_science)"
   ]
  },
  {
   "cell_type": "markdown",
   "id": "818e4604-6aca-4149-86d3-8aed87ce3ce6",
   "metadata": {},
   "source": [
    "## Imports\n",
    "\n",
    "We will only need torch to be imported for this example"
   ]
  },
  {
   "cell_type": "code",
   "execution_count": 1,
   "id": "89b3222b-95f6-4a96-b47f-47e5a9206156",
   "metadata": {
    "execution": {
     "iopub.execute_input": "2021-08-18T03:32:38.404477Z",
     "iopub.status.busy": "2021-08-18T03:32:38.404287Z",
     "iopub.status.idle": "2021-08-18T03:32:38.874138Z",
     "shell.execute_reply": "2021-08-18T03:32:38.873532Z",
     "shell.execute_reply.started": "2021-08-18T03:32:38.404423Z"
    },
    "tags": []
   },
   "outputs": [],
   "source": [
    "import torch"
   ]
  },
  {
   "cell_type": "markdown",
   "id": "32be2dd3-0627-42bf-a33e-f0ca7e2bb089",
   "metadata": {},
   "source": [
    "## Example function\n",
    "\n",
    "We use torch’s random function to create a tensor of the chosen length while randomly setting the class, with maximum of the selected number, and indexing from zero."
   ]
  },
  {
   "cell_type": "code",
   "execution_count": 2,
   "id": "f9270e58-c946-4352-aef7-7da08293bc97",
   "metadata": {
    "execution": {
     "iopub.execute_input": "2021-08-18T03:32:38.875029Z",
     "iopub.status.busy": "2021-08-18T03:32:38.874900Z",
     "iopub.status.idle": "2021-08-18T03:32:38.878421Z",
     "shell.execute_reply": "2021-08-18T03:32:38.877925Z",
     "shell.execute_reply.started": "2021-08-18T03:32:38.875010Z"
    },
    "tags": []
   },
   "outputs": [],
   "source": [
    "def one_hot_encode_demo(num_classes = 2, idx_len = 10):\n",
    "    \n",
    "    print('Randomly generating index.....\\n')\n",
    "    idx = torch.Tensor(idx_len).random_(0, num_classes)\n",
    "    \n",
    "    print('The index is now', idx)\n",
    "    \n",
    "    print('\\nCreating one-hot encoded tensor....')\n",
    "    one_hot = torch.nn.functional.one_hot(idx.to(torch.int64), num_classes)\n",
    "    \n",
    "    print('\\nThe one-hot encoded index is now:')\n",
    "    print(one_hot)"
   ]
  },
  {
   "cell_type": "markdown",
   "id": "06adfb86-6c49-407f-b33a-1ed7b070d861",
   "metadata": {
    "execution": {
     "iopub.execute_input": "2021-08-18T02:28:11.727717Z",
     "iopub.status.busy": "2021-08-18T02:28:11.727467Z",
     "iopub.status.idle": "2021-08-18T02:28:11.730776Z",
     "shell.execute_reply": "2021-08-18T02:28:11.730044Z",
     "shell.execute_reply.started": "2021-08-18T02:28:11.727689Z"
    }
   },
   "source": [
    "## Display Some Examples"
   ]
  },
  {
   "cell_type": "markdown",
   "id": "1100321e-b633-4912-b023-7c50739f3329",
   "metadata": {},
   "source": [
    "Now we create a very simple example with 2 classes to demonstrate the basic concept "
   ]
  },
  {
   "cell_type": "code",
   "execution_count": 3,
   "id": "c27904d2-2aea-4cd3-bd90-49ac6b4da105",
   "metadata": {
    "execution": {
     "iopub.execute_input": "2021-08-18T03:32:38.879248Z",
     "iopub.status.busy": "2021-08-18T03:32:38.879094Z",
     "iopub.status.idle": "2021-08-18T03:32:38.894030Z",
     "shell.execute_reply": "2021-08-18T03:32:38.893348Z",
     "shell.execute_reply.started": "2021-08-18T03:32:38.879228Z"
    },
    "tags": []
   },
   "outputs": [
    {
     "name": "stdout",
     "output_type": "stream",
     "text": [
      "Randomly generating index.....\n",
      "\n",
      "The index is now tensor([0., 0., 0., 1., 1., 0., 0., 0., 1., 0.])\n",
      "\n",
      "Creating one-hot encoded tensor....\n",
      "\n",
      "The one-hot encoded index is now:\n",
      "tensor([[1, 0],\n",
      "        [1, 0],\n",
      "        [1, 0],\n",
      "        [0, 1],\n",
      "        [0, 1],\n",
      "        [1, 0],\n",
      "        [1, 0],\n",
      "        [1, 0],\n",
      "        [0, 1],\n",
      "        [1, 0]])\n"
     ]
    }
   ],
   "source": [
    "one_hot_encode_demo(num_classes = 2)"
   ]
  },
  {
   "cell_type": "markdown",
   "id": "714243db-034b-4ddb-960e-f4e7f6dedc99",
   "metadata": {},
   "source": [
    "Now we create a more complex example with 10 classes"
   ]
  },
  {
   "cell_type": "code",
   "execution_count": 4,
   "id": "8b3870c9-cb44-44f6-a743-4da87b77b7b2",
   "metadata": {
    "execution": {
     "iopub.execute_input": "2021-08-18T03:32:38.895107Z",
     "iopub.status.busy": "2021-08-18T03:32:38.894950Z",
     "iopub.status.idle": "2021-08-18T03:32:38.899962Z",
     "shell.execute_reply": "2021-08-18T03:32:38.899413Z",
     "shell.execute_reply.started": "2021-08-18T03:32:38.895085Z"
    },
    "tags": []
   },
   "outputs": [
    {
     "name": "stdout",
     "output_type": "stream",
     "text": [
      "Randomly generating index.....\n",
      "\n",
      "The index is now tensor([7., 6., 3., 0., 2., 3., 7., 2., 5., 2.])\n",
      "\n",
      "Creating one-hot encoded tensor....\n",
      "\n",
      "The one-hot encoded index is now:\n",
      "tensor([[0, 0, 0, 0, 0, 0, 0, 1, 0, 0],\n",
      "        [0, 0, 0, 0, 0, 0, 1, 0, 0, 0],\n",
      "        [0, 0, 0, 1, 0, 0, 0, 0, 0, 0],\n",
      "        [1, 0, 0, 0, 0, 0, 0, 0, 0, 0],\n",
      "        [0, 0, 1, 0, 0, 0, 0, 0, 0, 0],\n",
      "        [0, 0, 0, 1, 0, 0, 0, 0, 0, 0],\n",
      "        [0, 0, 0, 0, 0, 0, 0, 1, 0, 0],\n",
      "        [0, 0, 1, 0, 0, 0, 0, 0, 0, 0],\n",
      "        [0, 0, 0, 0, 0, 1, 0, 0, 0, 0],\n",
      "        [0, 0, 1, 0, 0, 0, 0, 0, 0, 0]])\n"
     ]
    }
   ],
   "source": [
    "one_hot_encode_demo(num_classes = 10)"
   ]
  },
  {
   "cell_type": "markdown",
   "id": "397ffa29-866b-4251-93ce-f9006d1d0be5",
   "metadata": {},
   "source": [
    "As a final example we create a tensor of 3 classes and a length of 25"
   ]
  },
  {
   "cell_type": "code",
   "execution_count": 5,
   "id": "100b70f7-e777-4d12-b84d-3ef7faf3d4c5",
   "metadata": {
    "execution": {
     "iopub.execute_input": "2021-08-18T03:32:38.900856Z",
     "iopub.status.busy": "2021-08-18T03:32:38.900703Z",
     "iopub.status.idle": "2021-08-18T03:32:38.909236Z",
     "shell.execute_reply": "2021-08-18T03:32:38.908615Z",
     "shell.execute_reply.started": "2021-08-18T03:32:38.900834Z"
    },
    "tags": []
   },
   "outputs": [
    {
     "name": "stdout",
     "output_type": "stream",
     "text": [
      "Randomly generating index.....\n",
      "\n",
      "The index is now tensor([0., 2., 1., 0., 1., 0., 2., 2., 2., 2., 1., 1., 1., 1., 2., 0., 0., 0.,\n",
      "        0., 0., 2., 0., 2., 0., 0.])\n",
      "\n",
      "Creating one-hot encoded tensor....\n",
      "\n",
      "The one-hot encoded index is now:\n",
      "tensor([[1, 0, 0],\n",
      "        [0, 0, 1],\n",
      "        [0, 1, 0],\n",
      "        [1, 0, 0],\n",
      "        [0, 1, 0],\n",
      "        [1, 0, 0],\n",
      "        [0, 0, 1],\n",
      "        [0, 0, 1],\n",
      "        [0, 0, 1],\n",
      "        [0, 0, 1],\n",
      "        [0, 1, 0],\n",
      "        [0, 1, 0],\n",
      "        [0, 1, 0],\n",
      "        [0, 1, 0],\n",
      "        [0, 0, 1],\n",
      "        [1, 0, 0],\n",
      "        [1, 0, 0],\n",
      "        [1, 0, 0],\n",
      "        [1, 0, 0],\n",
      "        [1, 0, 0],\n",
      "        [0, 0, 1],\n",
      "        [1, 0, 0],\n",
      "        [0, 0, 1],\n",
      "        [1, 0, 0],\n",
      "        [1, 0, 0]])\n"
     ]
    }
   ],
   "source": [
    "one_hot_encode_demo(num_classes = 3, idx_len = 25)"
   ]
  },
  {
   "cell_type": "code",
   "execution_count": null,
   "id": "77c55910-c88e-4e4c-b85b-f4ebeac30725",
   "metadata": {},
   "outputs": [],
   "source": []
  }
 ],
 "metadata": {
  "kernelspec": {
   "display_name": "Python 3",
   "language": "python",
   "name": "python3"
  },
  "language_info": {
   "codemirror_mode": {
    "name": "ipython",
    "version": 3
   },
   "file_extension": ".py",
   "mimetype": "text/x-python",
   "name": "python",
   "nbconvert_exporter": "python",
   "pygments_lexer": "ipython3",
   "version": "3.9.4"
  }
 },
 "nbformat": 4,
 "nbformat_minor": 5
}
